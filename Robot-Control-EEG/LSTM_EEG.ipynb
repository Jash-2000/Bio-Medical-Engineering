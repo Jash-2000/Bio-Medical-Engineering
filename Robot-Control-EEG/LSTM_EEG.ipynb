{
  "nbformat": 4,
  "nbformat_minor": 0,
  "metadata": {
    "colab": {
      "name": "LSTM_EEG.ipynb",
      "provenance": [],
      "authorship_tag": "ABX9TyMYoMV58qWjZ4L2alpkyLKR"
    },
    "kernelspec": {
      "name": "python3",
      "display_name": "Python 3"
    },
    "language_info": {
      "name": "python"
    }
  },
  "cells": [
    {
      "cell_type": "code",
      "metadata": {
        "colab": {
          "base_uri": "https://localhost:8080/"
        },
        "id": "E0svuI9QjnuD",
        "outputId": "fd3fd891-1973-4d4f-f7f8-eeb5692aa7f0"
      },
      "source": [
        "from google.colab import drive\n",
        "drive.mount('/Jash')"
      ],
      "execution_count": 1,
      "outputs": [
        {
          "output_type": "stream",
          "text": [
            "Mounted at /Jash\n"
          ],
          "name": "stdout"
        }
      ]
    },
    {
      "cell_type": "code",
      "metadata": {
        "id": "4WCi6xG5k9jA"
      },
      "source": [
        "import matplotlib.pyplot as plt\n",
        "import numpy as np\n",
        "import tensorflow as tf\n",
        "import sklearn\n",
        "from keras.models import Sequential\n",
        "from keras.layers import Dense, Dropout, Activation\n",
        "from keras.optimizers import SGD\n",
        "from sklearn.metrics import confusion_matrix\n",
        "from sklearn.metrics import multilabel_confusion_matrix"
      ],
      "execution_count": 8,
      "outputs": []
    },
    {
      "cell_type": "code",
      "metadata": {
        "id": "2tdyR3XTlBoe"
      },
      "source": [
        "X_train = np.load('/Jash/My Drive/asset/x_train.npy')\n",
        "X_test = np.load('/Jash/My Drive/asset/x_test.npy')\n",
        "y_train = np.load('/Jash/My Drive/asset/y_train.npy')\n",
        "y_test = np.load('/Jash/My Drive/asset/y_test.npy')"
      ],
      "execution_count": 26,
      "outputs": []
    },
    {
      "cell_type": "code",
      "metadata": {
        "id": "ZyT9o8EuauLN"
      },
      "source": [
        "y_train = y_train.astype('float32')\n",
        "y_test = y_test.astype('float32')"
      ],
      "execution_count": 27,
      "outputs": []
    },
    {
      "cell_type": "code",
      "metadata": {
        "id": "vH7l6_NFuS-1",
        "colab": {
          "base_uri": "https://localhost:8080/"
        },
        "outputId": "6f79dd2a-a125-4cbe-ad7b-dcc04e8dc3c4"
      },
      "source": [
        "from keras.utils import to_categorical\n",
        "y_test = to_categorical(y_test)\n",
        "y_train = to_categorical(y_train)\n",
        "y_test"
      ],
      "execution_count": 28,
      "outputs": [
        {
          "output_type": "execute_result",
          "data": {
            "text/plain": [
              "array([[0., 0., 1., 0., 0., 0.],\n",
              "       [0., 0., 0., 0., 1., 0.],\n",
              "       [0., 1., 0., 0., 0., 0.],\n",
              "       ...,\n",
              "       [0., 0., 1., 0., 0., 0.],\n",
              "       [0., 0., 0., 1., 0., 0.],\n",
              "       [0., 0., 1., 0., 0., 0.]], dtype=float32)"
            ]
          },
          "metadata": {
            "tags": []
          },
          "execution_count": 28
        }
      ]
    },
    {
      "cell_type": "code",
      "metadata": {
        "id": "7LepQkTtCyJu"
      },
      "source": [
        "from sklearn.preprocessing import StandardScaler\n",
        "scaler = StandardScaler()\n",
        "scaler.fit(X_train)\n",
        "X_train = scaler.transform(X_train)"
      ],
      "execution_count": 29,
      "outputs": []
    },
    {
      "cell_type": "code",
      "metadata": {
        "id": "8Kvpd8FaCyBm"
      },
      "source": [
        "from sklearn.preprocessing import StandardScaler\n",
        "scaler = StandardScaler()\n",
        "scaler.fit(X_test)\n",
        "X_test = scaler.transform(X_test)"
      ],
      "execution_count": 30,
      "outputs": []
    },
    {
      "cell_type": "code",
      "metadata": {
        "colab": {
          "base_uri": "https://localhost:8080/"
        },
        "id": "QU4EWFUGDnNv",
        "outputId": "de43715d-5c6b-400c-8f00-5dbcff182abe"
      },
      "source": [
        "X_train.shape"
      ],
      "execution_count": 31,
      "outputs": [
        {
          "output_type": "execute_result",
          "data": {
            "text/plain": [
              "(23790, 64)"
            ]
          },
          "metadata": {
            "tags": []
          },
          "execution_count": 31
        }
      ]
    },
    {
      "cell_type": "code",
      "metadata": {
        "id": "g22aLIiMlaWO"
      },
      "source": [
        "X_train = np.reshape(X_train, (X_train.shape[0],1,X_train.shape[1]))\n",
        "X_test = np.reshape(X_test, (X_test.shape[0],1,X_test.shape[1]))"
      ],
      "execution_count": 32,
      "outputs": []
    },
    {
      "cell_type": "code",
      "metadata": {
        "id": "wMUWyTnfjK-J",
        "colab": {
          "base_uri": "https://localhost:8080/"
        },
        "outputId": "2b0cbefd-9ea0-4def-c039-481cb50a3bca"
      },
      "source": [
        "import tensorflow as tf\n",
        "from tensorflow.keras import Sequential\n",
        "\n",
        "from tensorflow.keras.layers import Dense, Dropout\n",
        "from tensorflow.keras.layers import Embedding\n",
        "from tensorflow.keras.layers import LSTM\n",
        "tf.keras.backend.clear_session()\n",
        "\n",
        "model = Sequential()\n",
        "model.add(LSTM(64, input_shape=(1,64),activation=\"relu\",return_sequences=True))\n",
        "model.add(Dropout(0.2))\n",
        "model.add(LSTM(32,activation=\"sigmoid\"))\n",
        "model.add(Dropout(0.2))\n",
        "#model.add(LSTM(100,return_sequences=True))\n",
        "#model.add(Dropout(0.2))\n",
        "#model.add(LSTM(50))\n",
        "#model.add(Dropout(0.2))\n",
        "model.add(Dense(6, activation='sigmoid'))\n",
        "from keras.optimizers import SGD\n",
        "model.compile(loss = 'categorical_crossentropy', optimizer = \"adam\", metrics = ['accuracy'])\n",
        "model.summary()"
      ],
      "execution_count": 36,
      "outputs": [
        {
          "output_type": "stream",
          "text": [
            "Model: \"sequential\"\n",
            "_________________________________________________________________\n",
            "Layer (type)                 Output Shape              Param #   \n",
            "=================================================================\n",
            "lstm (LSTM)                  (None, 1, 64)             33024     \n",
            "_________________________________________________________________\n",
            "dropout (Dropout)            (None, 1, 64)             0         \n",
            "_________________________________________________________________\n",
            "lstm_1 (LSTM)                (None, 32)                12416     \n",
            "_________________________________________________________________\n",
            "dropout_1 (Dropout)          (None, 32)                0         \n",
            "_________________________________________________________________\n",
            "dense (Dense)                (None, 6)                 198       \n",
            "=================================================================\n",
            "Total params: 45,638\n",
            "Trainable params: 45,638\n",
            "Non-trainable params: 0\n",
            "_________________________________________________________________\n"
          ],
          "name": "stdout"
        }
      ]
    },
    {
      "cell_type": "code",
      "metadata": {
        "id": "6DDqDND9vTbo",
        "colab": {
          "base_uri": "https://localhost:8080/"
        },
        "outputId": "e6e166ff-7f5a-41a4-c329-242f0104de34"
      },
      "source": [
        "history = model.fit(X_train, y_train, epochs = 100, validation_data= (X_test, y_test))\n",
        "score, acc = model.evaluate(X_test, y_test)"
      ],
      "execution_count": 37,
      "outputs": [
        {
          "output_type": "stream",
          "text": [
            "Epoch 1/100\n",
            "744/744 [==============================] - 5s 4ms/step - loss: 1.5812 - accuracy: 0.3357 - val_loss: 1.3595 - val_accuracy: 0.4354\n",
            "Epoch 2/100\n",
            "744/744 [==============================] - 2s 3ms/step - loss: 1.3527 - accuracy: 0.4321 - val_loss: 1.2217 - val_accuracy: 0.5229\n",
            "Epoch 3/100\n",
            "744/744 [==============================] - 2s 3ms/step - loss: 1.2197 - accuracy: 0.5072 - val_loss: 1.0935 - val_accuracy: 0.5778\n",
            "Epoch 4/100\n",
            "744/744 [==============================] - 2s 3ms/step - loss: 1.1276 - accuracy: 0.5540 - val_loss: 0.9903 - val_accuracy: 0.6264\n",
            "Epoch 5/100\n",
            "744/744 [==============================] - 2s 3ms/step - loss: 1.0404 - accuracy: 0.5983 - val_loss: 0.9139 - val_accuracy: 0.6585\n",
            "Epoch 6/100\n",
            "744/744 [==============================] - 2s 3ms/step - loss: 0.9818 - accuracy: 0.6173 - val_loss: 0.8434 - val_accuracy: 0.6878\n",
            "Epoch 7/100\n",
            "744/744 [==============================] - 2s 3ms/step - loss: 0.9184 - accuracy: 0.6485 - val_loss: 0.7732 - val_accuracy: 0.7157\n",
            "Epoch 8/100\n",
            "744/744 [==============================] - 2s 3ms/step - loss: 0.8620 - accuracy: 0.6727 - val_loss: 0.7232 - val_accuracy: 0.7381\n",
            "Epoch 9/100\n",
            "744/744 [==============================] - 2s 3ms/step - loss: 0.8058 - accuracy: 0.6942 - val_loss: 0.6776 - val_accuracy: 0.7518\n",
            "Epoch 10/100\n",
            "744/744 [==============================] - 2s 3ms/step - loss: 0.7732 - accuracy: 0.7022 - val_loss: 0.6383 - val_accuracy: 0.7682\n",
            "Epoch 11/100\n",
            "744/744 [==============================] - 2s 3ms/step - loss: 0.7425 - accuracy: 0.7178 - val_loss: 0.5917 - val_accuracy: 0.7873\n",
            "Epoch 12/100\n",
            "744/744 [==============================] - 2s 3ms/step - loss: 0.7065 - accuracy: 0.7350 - val_loss: 0.5611 - val_accuracy: 0.7988\n",
            "Epoch 13/100\n",
            "744/744 [==============================] - 2s 3ms/step - loss: 0.6653 - accuracy: 0.7523 - val_loss: 0.5212 - val_accuracy: 0.8142\n",
            "Epoch 14/100\n",
            "744/744 [==============================] - 2s 3ms/step - loss: 0.6356 - accuracy: 0.7615 - val_loss: 0.4923 - val_accuracy: 0.8246\n",
            "Epoch 15/100\n",
            "744/744 [==============================] - 2s 3ms/step - loss: 0.6192 - accuracy: 0.7735 - val_loss: 0.4670 - val_accuracy: 0.8366\n",
            "Epoch 16/100\n",
            "744/744 [==============================] - 2s 3ms/step - loss: 0.6054 - accuracy: 0.7766 - val_loss: 0.4481 - val_accuracy: 0.8452\n",
            "Epoch 17/100\n",
            "744/744 [==============================] - 2s 3ms/step - loss: 0.5770 - accuracy: 0.7849 - val_loss: 0.4220 - val_accuracy: 0.8527\n",
            "Epoch 18/100\n",
            "744/744 [==============================] - 2s 3ms/step - loss: 0.5499 - accuracy: 0.7965 - val_loss: 0.4125 - val_accuracy: 0.8517\n",
            "Epoch 19/100\n",
            "744/744 [==============================] - 2s 3ms/step - loss: 0.5399 - accuracy: 0.7983 - val_loss: 0.3831 - val_accuracy: 0.8684\n",
            "Epoch 20/100\n",
            "744/744 [==============================] - 2s 3ms/step - loss: 0.5121 - accuracy: 0.8093 - val_loss: 0.3675 - val_accuracy: 0.8747\n",
            "Epoch 21/100\n",
            "744/744 [==============================] - 2s 3ms/step - loss: 0.4899 - accuracy: 0.8183 - val_loss: 0.3599 - val_accuracy: 0.8742\n",
            "Epoch 22/100\n",
            "744/744 [==============================] - 2s 3ms/step - loss: 0.4761 - accuracy: 0.8254 - val_loss: 0.3405 - val_accuracy: 0.8825\n",
            "Epoch 23/100\n",
            "744/744 [==============================] - 2s 3ms/step - loss: 0.4633 - accuracy: 0.8287 - val_loss: 0.3325 - val_accuracy: 0.8832\n",
            "Epoch 24/100\n",
            "744/744 [==============================] - 2s 3ms/step - loss: 0.4621 - accuracy: 0.8294 - val_loss: 0.3215 - val_accuracy: 0.8875\n",
            "Epoch 25/100\n",
            "744/744 [==============================] - 2s 3ms/step - loss: 0.4323 - accuracy: 0.8393 - val_loss: 0.3033 - val_accuracy: 0.8988\n",
            "Epoch 26/100\n",
            "744/744 [==============================] - 2s 3ms/step - loss: 0.4322 - accuracy: 0.8383 - val_loss: 0.2900 - val_accuracy: 0.9027\n",
            "Epoch 27/100\n",
            "744/744 [==============================] - 2s 3ms/step - loss: 0.4080 - accuracy: 0.8505 - val_loss: 0.2804 - val_accuracy: 0.9053\n",
            "Epoch 28/100\n",
            "744/744 [==============================] - 2s 3ms/step - loss: 0.4273 - accuracy: 0.8429 - val_loss: 0.2730 - val_accuracy: 0.9067\n",
            "Epoch 29/100\n",
            "744/744 [==============================] - 2s 3ms/step - loss: 0.3952 - accuracy: 0.8521 - val_loss: 0.2564 - val_accuracy: 0.9127\n",
            "Epoch 30/100\n",
            "744/744 [==============================] - 2s 3ms/step - loss: 0.3992 - accuracy: 0.8524 - val_loss: 0.2632 - val_accuracy: 0.9092\n",
            "Epoch 31/100\n",
            "744/744 [==============================] - 2s 3ms/step - loss: 0.3887 - accuracy: 0.8593 - val_loss: 0.2530 - val_accuracy: 0.9132\n",
            "Epoch 32/100\n",
            "744/744 [==============================] - 2s 3ms/step - loss: 0.3743 - accuracy: 0.8647 - val_loss: 0.2416 - val_accuracy: 0.9178\n",
            "Epoch 33/100\n",
            "744/744 [==============================] - 2s 3ms/step - loss: 0.3679 - accuracy: 0.8702 - val_loss: 0.2372 - val_accuracy: 0.9196\n",
            "Epoch 34/100\n",
            "744/744 [==============================] - 2s 3ms/step - loss: 0.3578 - accuracy: 0.8652 - val_loss: 0.2301 - val_accuracy: 0.9205\n",
            "Epoch 35/100\n",
            "744/744 [==============================] - 2s 3ms/step - loss: 0.3462 - accuracy: 0.8750 - val_loss: 0.2231 - val_accuracy: 0.9233\n",
            "Epoch 36/100\n",
            "744/744 [==============================] - 2s 3ms/step - loss: 0.3422 - accuracy: 0.8750 - val_loss: 0.2113 - val_accuracy: 0.9296\n",
            "Epoch 37/100\n",
            "744/744 [==============================] - 2s 3ms/step - loss: 0.3374 - accuracy: 0.8762 - val_loss: 0.2034 - val_accuracy: 0.9329\n",
            "Epoch 38/100\n",
            "744/744 [==============================] - 2s 3ms/step - loss: 0.3337 - accuracy: 0.8761 - val_loss: 0.2038 - val_accuracy: 0.9306\n",
            "Epoch 39/100\n",
            "744/744 [==============================] - 2s 3ms/step - loss: 0.3174 - accuracy: 0.8835 - val_loss: 0.2007 - val_accuracy: 0.9285\n",
            "Epoch 40/100\n",
            "744/744 [==============================] - 2s 3ms/step - loss: 0.3159 - accuracy: 0.8848 - val_loss: 0.2003 - val_accuracy: 0.9302\n",
            "Epoch 41/100\n",
            "744/744 [==============================] - 2s 3ms/step - loss: 0.3114 - accuracy: 0.8868 - val_loss: 0.1913 - val_accuracy: 0.9326\n",
            "Epoch 42/100\n",
            "744/744 [==============================] - 2s 3ms/step - loss: 0.3068 - accuracy: 0.8884 - val_loss: 0.1802 - val_accuracy: 0.9388\n",
            "Epoch 43/100\n",
            "744/744 [==============================] - 2s 3ms/step - loss: 0.2973 - accuracy: 0.8924 - val_loss: 0.1889 - val_accuracy: 0.9346\n",
            "Epoch 44/100\n",
            "744/744 [==============================] - 2s 3ms/step - loss: 0.2890 - accuracy: 0.8927 - val_loss: 0.1823 - val_accuracy: 0.9371\n",
            "Epoch 45/100\n",
            "744/744 [==============================] - 2s 3ms/step - loss: 0.2973 - accuracy: 0.8930 - val_loss: 0.1774 - val_accuracy: 0.9381\n",
            "Epoch 46/100\n",
            "744/744 [==============================] - 2s 3ms/step - loss: 0.2823 - accuracy: 0.8984 - val_loss: 0.1722 - val_accuracy: 0.9396\n",
            "Epoch 47/100\n",
            "744/744 [==============================] - 2s 3ms/step - loss: 0.2764 - accuracy: 0.9002 - val_loss: 0.1828 - val_accuracy: 0.9375\n",
            "Epoch 48/100\n",
            "744/744 [==============================] - 2s 3ms/step - loss: 0.2824 - accuracy: 0.8949 - val_loss: 0.1605 - val_accuracy: 0.9455\n",
            "Epoch 49/100\n",
            "744/744 [==============================] - 2s 3ms/step - loss: 0.2819 - accuracy: 0.8994 - val_loss: 0.1577 - val_accuracy: 0.9470\n",
            "Epoch 50/100\n",
            "744/744 [==============================] - 2s 3ms/step - loss: 0.2767 - accuracy: 0.8972 - val_loss: 0.1614 - val_accuracy: 0.9403\n",
            "Epoch 51/100\n",
            "744/744 [==============================] - 2s 3ms/step - loss: 0.2667 - accuracy: 0.9030 - val_loss: 0.1686 - val_accuracy: 0.9376\n",
            "Epoch 52/100\n",
            "744/744 [==============================] - 2s 3ms/step - loss: 0.2679 - accuracy: 0.9028 - val_loss: 0.1611 - val_accuracy: 0.9420\n",
            "Epoch 53/100\n",
            "744/744 [==============================] - 2s 3ms/step - loss: 0.2656 - accuracy: 0.9019 - val_loss: 0.1523 - val_accuracy: 0.9444\n",
            "Epoch 54/100\n",
            "744/744 [==============================] - 2s 3ms/step - loss: 0.2704 - accuracy: 0.9012 - val_loss: 0.1513 - val_accuracy: 0.9464\n",
            "Epoch 55/100\n",
            "744/744 [==============================] - 2s 3ms/step - loss: 0.2597 - accuracy: 0.9072 - val_loss: 0.1459 - val_accuracy: 0.9494\n",
            "Epoch 56/100\n",
            "744/744 [==============================] - 3s 3ms/step - loss: 0.2550 - accuracy: 0.9073 - val_loss: 0.1455 - val_accuracy: 0.9467\n",
            "Epoch 57/100\n",
            "744/744 [==============================] - 2s 3ms/step - loss: 0.2504 - accuracy: 0.9112 - val_loss: 0.1494 - val_accuracy: 0.9454\n",
            "Epoch 58/100\n",
            "744/744 [==============================] - 2s 3ms/step - loss: 0.2458 - accuracy: 0.9118 - val_loss: 0.1395 - val_accuracy: 0.9509\n",
            "Epoch 59/100\n",
            "744/744 [==============================] - 2s 3ms/step - loss: 0.2414 - accuracy: 0.9140 - val_loss: 0.1370 - val_accuracy: 0.9526\n",
            "Epoch 60/100\n",
            "744/744 [==============================] - 2s 3ms/step - loss: 0.2454 - accuracy: 0.9137 - val_loss: 0.1367 - val_accuracy: 0.9511\n",
            "Epoch 61/100\n",
            "744/744 [==============================] - 2s 3ms/step - loss: 0.2401 - accuracy: 0.9119 - val_loss: 0.1356 - val_accuracy: 0.9514\n",
            "Epoch 62/100\n",
            "744/744 [==============================] - 2s 3ms/step - loss: 0.2268 - accuracy: 0.9190 - val_loss: 0.1338 - val_accuracy: 0.9556\n",
            "Epoch 63/100\n",
            "744/744 [==============================] - 2s 3ms/step - loss: 0.2410 - accuracy: 0.9145 - val_loss: 0.1294 - val_accuracy: 0.9534\n",
            "Epoch 64/100\n",
            "744/744 [==============================] - 2s 3ms/step - loss: 0.2371 - accuracy: 0.9134 - val_loss: 0.1308 - val_accuracy: 0.9533\n",
            "Epoch 65/100\n",
            "744/744 [==============================] - 3s 3ms/step - loss: 0.2300 - accuracy: 0.9188 - val_loss: 0.1286 - val_accuracy: 0.9519\n",
            "Epoch 66/100\n",
            "744/744 [==============================] - 2s 3ms/step - loss: 0.2341 - accuracy: 0.9152 - val_loss: 0.1300 - val_accuracy: 0.9533\n",
            "Epoch 67/100\n",
            "744/744 [==============================] - 2s 3ms/step - loss: 0.2259 - accuracy: 0.9177 - val_loss: 0.1239 - val_accuracy: 0.9560\n",
            "Epoch 68/100\n",
            "744/744 [==============================] - 2s 3ms/step - loss: 0.2196 - accuracy: 0.9233 - val_loss: 0.1403 - val_accuracy: 0.9497\n",
            "Epoch 69/100\n",
            "744/744 [==============================] - 2s 3ms/step - loss: 0.2195 - accuracy: 0.9228 - val_loss: 0.1200 - val_accuracy: 0.9566\n",
            "Epoch 70/100\n",
            "744/744 [==============================] - 2s 3ms/step - loss: 0.2093 - accuracy: 0.9233 - val_loss: 0.1197 - val_accuracy: 0.9583\n",
            "Epoch 71/100\n",
            "744/744 [==============================] - 2s 3ms/step - loss: 0.2116 - accuracy: 0.9224 - val_loss: 0.1417 - val_accuracy: 0.9484\n",
            "Epoch 72/100\n",
            "744/744 [==============================] - 2s 3ms/step - loss: 0.2150 - accuracy: 0.9204 - val_loss: 0.1221 - val_accuracy: 0.9570\n",
            "Epoch 73/100\n",
            "744/744 [==============================] - 2s 3ms/step - loss: 0.2105 - accuracy: 0.9204 - val_loss: 0.1169 - val_accuracy: 0.9597\n",
            "Epoch 74/100\n",
            "744/744 [==============================] - 2s 3ms/step - loss: 0.2182 - accuracy: 0.9208 - val_loss: 0.1095 - val_accuracy: 0.9617\n",
            "Epoch 75/100\n",
            "744/744 [==============================] - 2s 3ms/step - loss: 0.2018 - accuracy: 0.9292 - val_loss: 0.1247 - val_accuracy: 0.9544\n",
            "Epoch 76/100\n",
            "744/744 [==============================] - 2s 3ms/step - loss: 0.2100 - accuracy: 0.9253 - val_loss: 0.1166 - val_accuracy: 0.9590\n",
            "Epoch 77/100\n",
            "744/744 [==============================] - 2s 3ms/step - loss: 0.2053 - accuracy: 0.9258 - val_loss: 0.1242 - val_accuracy: 0.9543\n",
            "Epoch 78/100\n",
            "744/744 [==============================] - 2s 3ms/step - loss: 0.1939 - accuracy: 0.9294 - val_loss: 0.1201 - val_accuracy: 0.9588\n",
            "Epoch 79/100\n",
            "744/744 [==============================] - 2s 3ms/step - loss: 0.1999 - accuracy: 0.9268 - val_loss: 0.1136 - val_accuracy: 0.9590\n",
            "Epoch 80/100\n",
            "744/744 [==============================] - 2s 3ms/step - loss: 0.1992 - accuracy: 0.9273 - val_loss: 0.1042 - val_accuracy: 0.9623\n",
            "Epoch 81/100\n",
            "744/744 [==============================] - 2s 3ms/step - loss: 0.1926 - accuracy: 0.9299 - val_loss: 0.1105 - val_accuracy: 0.9627\n",
            "Epoch 82/100\n",
            "744/744 [==============================] - 2s 3ms/step - loss: 0.2024 - accuracy: 0.9239 - val_loss: 0.1164 - val_accuracy: 0.9590\n",
            "Epoch 83/100\n",
            "744/744 [==============================] - 2s 3ms/step - loss: 0.1979 - accuracy: 0.9292 - val_loss: 0.1210 - val_accuracy: 0.9551\n",
            "Epoch 84/100\n",
            "744/744 [==============================] - 2s 3ms/step - loss: 0.1936 - accuracy: 0.9298 - val_loss: 0.1137 - val_accuracy: 0.9580\n",
            "Epoch 85/100\n",
            "744/744 [==============================] - 2s 3ms/step - loss: 0.1915 - accuracy: 0.9317 - val_loss: 0.1110 - val_accuracy: 0.9602\n",
            "Epoch 86/100\n",
            "744/744 [==============================] - 2s 3ms/step - loss: 0.1925 - accuracy: 0.9279 - val_loss: 0.1059 - val_accuracy: 0.9622\n",
            "Epoch 87/100\n",
            "744/744 [==============================] - 3s 3ms/step - loss: 0.1871 - accuracy: 0.9292 - val_loss: 0.1027 - val_accuracy: 0.9650\n",
            "Epoch 88/100\n",
            "744/744 [==============================] - 2s 3ms/step - loss: 0.1800 - accuracy: 0.9329 - val_loss: 0.1012 - val_accuracy: 0.9633\n",
            "Epoch 89/100\n",
            "744/744 [==============================] - 2s 3ms/step - loss: 0.1955 - accuracy: 0.9298 - val_loss: 0.1017 - val_accuracy: 0.9600\n",
            "Epoch 90/100\n",
            "744/744 [==============================] - 2s 3ms/step - loss: 0.1846 - accuracy: 0.9326 - val_loss: 0.1012 - val_accuracy: 0.9635\n",
            "Epoch 91/100\n",
            "744/744 [==============================] - 2s 3ms/step - loss: 0.1899 - accuracy: 0.9322 - val_loss: 0.1020 - val_accuracy: 0.9615\n",
            "Epoch 92/100\n",
            "744/744 [==============================] - 2s 3ms/step - loss: 0.1790 - accuracy: 0.9351 - val_loss: 0.1032 - val_accuracy: 0.9618\n",
            "Epoch 93/100\n",
            "744/744 [==============================] - 2s 3ms/step - loss: 0.1726 - accuracy: 0.9339 - val_loss: 0.1055 - val_accuracy: 0.9630\n",
            "Epoch 94/100\n",
            "744/744 [==============================] - 2s 3ms/step - loss: 0.1837 - accuracy: 0.9349 - val_loss: 0.0880 - val_accuracy: 0.9697\n",
            "Epoch 95/100\n",
            "744/744 [==============================] - 2s 3ms/step - loss: 0.1769 - accuracy: 0.9363 - val_loss: 0.0998 - val_accuracy: 0.9627\n",
            "Epoch 96/100\n",
            "744/744 [==============================] - 2s 3ms/step - loss: 0.1769 - accuracy: 0.9363 - val_loss: 0.0979 - val_accuracy: 0.9645\n",
            "Epoch 97/100\n",
            "744/744 [==============================] - 2s 3ms/step - loss: 0.1797 - accuracy: 0.9364 - val_loss: 0.0919 - val_accuracy: 0.9677\n",
            "Epoch 98/100\n",
            "744/744 [==============================] - 2s 3ms/step - loss: 0.1822 - accuracy: 0.9340 - val_loss: 0.0902 - val_accuracy: 0.9686\n",
            "Epoch 99/100\n",
            "744/744 [==============================] - 2s 3ms/step - loss: 0.1781 - accuracy: 0.9354 - val_loss: 0.0969 - val_accuracy: 0.9677\n",
            "Epoch 100/100\n",
            "744/744 [==============================] - 2s 3ms/step - loss: 0.1730 - accuracy: 0.9402 - val_loss: 0.0947 - val_accuracy: 0.9657\n",
            "186/186 [==============================] - 0s 1ms/step - loss: 0.0947 - accuracy: 0.9657\n"
          ],
          "name": "stdout"
        }
      ]
    },
    {
      "cell_type": "code",
      "metadata": {
        "id": "9RJZ5ilLEtS4"
      },
      "source": [
        "eeg_model_result = model.predict(X_test)"
      ],
      "execution_count": 38,
      "outputs": []
    },
    {
      "cell_type": "code",
      "metadata": {
        "id": "AF6lrmLyfVpe"
      },
      "source": [
        "y_pred = []\n",
        "for y in eeg_model_result:\n",
        "  max = np.amax(y)\n",
        "  if (max == y[1]):\n",
        "    y_pred.append(1)\n",
        "  elif (max == y[2]):\n",
        "    y_pred.append(2)\n",
        "  elif (max == y[3]):\n",
        "    y_pred.append(3)\n",
        "  elif (max == y[4]):\n",
        "    y_pred.append(4)\n",
        "  elif (max == y[5]):\n",
        "    y_pred.append(5)\n",
        "  else:\n",
        "    y_pred.append(0)\n",
        "\n",
        "y_real = []\n",
        "for y in y_test:\n",
        "  max = np.amax(y)\n",
        "  if (max == y[1]):\n",
        "    y_real.append(1)\n",
        "  elif (max == y[2]):\n",
        "    y_real.append(2)\n",
        "  elif (max == y[3]):\n",
        "    y_real.append(3)\n",
        "  elif (max == y[4]):\n",
        "    y_real.append(4)\n",
        "  elif (max == y[5]):\n",
        "    y_real.append(5)\n",
        "  else:\n",
        "    y_real.append(0)\n",
        "  "
      ],
      "execution_count": 39,
      "outputs": []
    },
    {
      "cell_type": "code",
      "metadata": {
        "colab": {
          "base_uri": "https://localhost:8080/"
        },
        "id": "kRFBt6qdFs6Q",
        "outputId": "db626dd2-6fd8-4b20-c1f6-7a60c3a6fdab"
      },
      "source": [
        "X_test[5].shape"
      ],
      "execution_count": 44,
      "outputs": [
        {
          "output_type": "execute_result",
          "data": {
            "text/plain": [
              "(1, 64)"
            ]
          },
          "metadata": {
            "tags": []
          },
          "execution_count": 44
        }
      ]
    },
    {
      "cell_type": "code",
      "metadata": {
        "colab": {
          "base_uri": "https://localhost:8080/",
          "height": 333
        },
        "id": "xNSrdtGSk38H",
        "outputId": "8d3d2603-45c7-49e0-cbe3-c00f52f10853"
      },
      "source": [
        "rand = 5\n",
        "choosen = np.array(X_test[rand]).reshape(64,1)\n",
        "electrode = []\n",
        "for t in range(64):\n",
        "  electrode.append(t+1)\n",
        "electrode = np.array(electrode).reshape(64,1)\n",
        "\n",
        "fig, ax = plt.subplots()  # Create a figure containing a single axes.\n",
        "ax.plot(electrode, choosen)  # Plot some data on the axes.\n",
        "\n",
        "print(\"\\n The predicted value is : \", y_pred[rand])\n",
        "print(\"\\n The real value is : \", y_real[rand])"
      ],
      "execution_count": 45,
      "outputs": [
        {
          "output_type": "stream",
          "text": [
            "\n",
            " The predicted value is :  4\n",
            "\n",
            " The real value is :  4\n"
          ],
          "name": "stdout"
        },
        {
          "output_type": "display_data",
          "data": {
            "image/png": "[encoded data removed]",
            "text/plain": [
              "<Figure size 432x288 with 1 Axes>"
            ]
          },
          "metadata": {
            "tags": [],
            "needs_background": "light"
          }
        }
      ]
    }
  ]
}